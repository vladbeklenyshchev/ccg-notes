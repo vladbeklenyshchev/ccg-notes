{
 "cells": [
  {
   "cell_type": "markdown",
   "metadata": {},
   "source": [
    "This is the summary of this [article](https://www.gwentdb.com/articles/182-gwent-concepts-card-advantage) on GwentDB.\n",
    "\n",
    "Generally, in game of Gwent, one player wins the first round, the other player wins the second round, and the outcome of a match is decided in the third round.\n",
    "\n",
    "## ROUND 3: THE ONLY ROUND THAT MATTERS?\n",
    "\n",
    "In round 3, you're in it to win it. You're going to play all your cards (with few exceptions), and the things that will determine the victor are:\n",
    "\n",
    "- Who has **card advantage (CA)**\n",
    "- Who is **playing first**\n",
    "- Who has better **card quality**\n",
    "- **Round length**\n",
    "- The outcome of **random effects**\n",
    "- **Sequencing**\n",
    "- **Mistakes** - most notably what you choose to play into or around\n",
    "- Anything **carried over** from previous rounds (most often through resilience)\n",
    "\n",
    "The factors you can affect during round 3 - making less mistakes and having better sequencing can only really improve with experience (as you learn about your deck, the meta, what to play around, etc…).\n",
    "\n",
    "### Card Advantage\n",
    "\n",
    "Card advantage refers to the difference between the number of cards in your opponent's hand and your cards.\n",
    "\n",
    "Why is it important?\n",
    "\n",
    "- More cards = more points\n",
    "- Importance of Last Play (last say)\n",
    "\n",
    "Perhaps more importantly, the combination of card advantage and who plays first determines who will have the last play of the round (sometimes multiple last plays in a row, if the card advantage is large). The importance of this varies from deck to deck and from match-up to match-up. Some examples of cards that care about this are:\n",
    "\n",
    "- Succubus - The later you play this, the less likely it is that your opponent has an answer.\n",
    "- Merigold's Hailstorm - Playing this as the last play can allow you to hit more units.\n",
    "- Kambi - Nullifies any points either player has accumulated so far. The outcome of the round will depend on how many cards players have remaining (and the quality of those cards)\n",
    "- John Natalis, Queensguard, Joachim de Wett, etc… - High point plays such as these become better if your opponent doesn't get the chance to respond to them (with something like a Merigold's Hailstorm or Geralt: Igni)\n",
    "- Vilgefortz into Ciri:Nova - Ciri:Nova is the most powerful card in the game if she is the last card placed on the board but she is so weak when opponent can kill her using Vilgefortz or Scorch. So CA is the most important thing for decks builded around Ciri:Nova.\n",
    "\n",
    "### How do you gain Card Advantage\n",
    "\n",
    "If you want to gain something in Gwent, there is always a tradeoff (компромисс). To gain card advantage you often need to sacrifice card quality, points, or another valuable resource. There are three different ways to get CA in Gwent :\n",
    "1. Card Advantage spies. Play spy to get CA and additional deck thinning. When to play spy:\n",
    "  - You win round 1 and you want to bleed opponent in round 2 (or you know your opponent has a wardancer or another carryover)\n",
    "  - Your opponent passed in round 1 and you are ahead of more than 13 points. You can throwaway your spy without loss of any points. This is bad because you can bleed your opponent in round 2 and you waste a silver card.\n",
    "  - You can block Scorch/Igni or you can use your spy to move an enemy on it's row with weather.\n",
    "  - Don't play spy in round 3!\n",
    "2. Gold cards like Ciri, Ocvist. Be aware of locks and removal :)\n",
    "3. Passing when ahead (or at parity). If you pass while you have more points on the board in round 1, your opponent has two options: \n",
    "  - They can pass, allowing you to win the round - this is usually a very good outcome for you, as that means they had essentially thrown away a card last turn.\n",
    "  - More often, they choose to play one or more cards in order to overcome your score, which would improve your CA.\n",
    " \n",
    " In round 2, the former[первый вариант] is not an option if you had won the first round, so your opponent is obliged to play more cards. Situations where this might gain you card advantage include:\n",
    " \n",
    " - Making higher point plays than your opponent (because they are setting up their engine e.g. weather) and passing quite early in the round. You need a nice **tempo** for that.\n",
    " - The **'dry pass'**. Passing in round 2 after winning in round 1, forcing your opponent to play a cards (provided they don't have carryover, or more precisely, more carryover than you).\n",
    "\n",
    "### CARD ADVANTAGE ISN'T EVERYTHING?\n",
    "\n",
    "Card advantage almost always comes at a cost - whether that be having to use better cards than your opponent before round 3 or not achieving other important objectives, such as thinning or winning the round. It is important to not get carried away and spend too many resources in the pursuit of card advantage, as that might lead you to not having enough firepower to win the match. But in this game, where there are a problem with **Coin Flip**, CA is the most important thing."
   ]
  }
 ],
 "metadata": {
  "anaconda-cloud": {},
  "kernelspec": {
   "display_name": "Python [default]",
   "language": "python",
   "name": "python3"
  },
  "language_info": {
   "codemirror_mode": {
    "name": "ipython",
    "version": 3
   },
   "file_extension": ".py",
   "mimetype": "text/x-python",
   "name": "python",
   "nbconvert_exporter": "python",
   "pygments_lexer": "ipython3",
   "version": "3.5.2"
  }
 },
 "nbformat": 4,
 "nbformat_minor": 1
}
