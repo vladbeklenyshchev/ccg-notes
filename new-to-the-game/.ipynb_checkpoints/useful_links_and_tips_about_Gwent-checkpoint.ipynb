{
 "cells": [
  {
   "cell_type": "markdown",
   "metadata": {},
   "source": [
    "## Three big things"
   ]
  },
  {
   "cell_type": "markdown",
   "metadata": {},
   "source": [
    "There are three big things to understand in the game for a new player :\n",
    "\n",
    "1. **Card Advantage** is the heart of the game. The battle revolves usually around making your opponent use more cards than you in earlier rounds. You get it through high tempo plays, carryover or silver spies.\n",
    "\n",
    "2. **Deck Thinning** is key in deckbuilding. You want to guarantee having access to your key cards and for this you will need to use tutors and units that pop out of your deck to thin as much as possible. Not all decks completely rely on this, but most of the competitive ones do and you will often see decks that play all their cards in a game.\n",
    "\n",
    "3. The game is in **three** rounds. You usually want to win round 1 and will need high tempo plays in order to do so, but your deck has to have a plan for round 2 and 3. Or you can just dry pass in round 1 if you have an engine deck. That deck will be powerful in long rounds which you opponent (winner of the round 1) will give you. Knowing what your opponent's plan is and how it compares to yours is the key to winning games. "
   ]
  },
  {
   "cell_type": "markdown",
   "metadata": {},
   "source": [
    "## Links"
   ]
  },
  {
   "cell_type": "markdown",
   "metadata": {},
   "source": [
    "Short *unofficial guide with starter decks* for each faction on Reddit: [link](https://ft.reddit.com/r/gwent/comments/850qzb/new_to_gwent_unofficial_guide/)"
   ]
  },
  {
   "cell_type": "markdown",
   "metadata": {},
   "source": [
    "[Video](https://www.youtube.com/watch?v=aFQZ0MhLkU0&feature=share) by ProperBird explains basic mechanics from the game and deckbuilding."
   ]
  },
  {
   "cell_type": "markdown",
   "metadata": {},
   "source": [
    "Guide to Acronyms in GWENT Discussions on CDPR's [forum](https://forums.cdprojektred.com/forum/en/gwent/tactician-s-corner/7659900-guide-to-acronyms-in-gwent-discussions-what-do-all-those-letters-mean). You need to know this to talk with people on reddit and watch streams."
   ]
  },
  {
   "cell_type": "markdown",
   "metadata": {},
   "source": [
    "GwentUp deck tracker [link](https://gwentup.com/). Also there is a link to the meta report [archive](https://gwentup.com/reports) from GwentUp team. You should see this to know your opponents and the best meta decks."
   ]
  },
  {
   "cell_type": "markdown",
   "metadata": {},
   "source": [
    "### Arena links"
   ]
  },
  {
   "cell_type": "markdown",
   "metadata": {},
   "source": [
    "Cards pickers:\n",
    "- from TopDeck [link](https://docs.google.com/spreadsheets/d/1qsZ6EpgvfOrqcABqfhVb6aim2vXuL6-uaur2kcYtWMg/edit#gid=1632377423);\n",
    "- from team Aretuza [link](http://teamaretuza.com/arena/)"
   ]
  },
  {
   "cell_type": "markdown",
   "metadata": {},
   "source": [
    "Guide to positioning your units in Arena [link](https://www.reddit.com/r/gwent/comments/807t08/guide_to_positioning_your_units_in_arena/?utm_term=9b7a73bb-5ae1-4479-be93-b9836fe5af4f&utm_medium=search&utm_source=reddit&utm_name=gwent&utm_content=1)"
   ]
  }
 ],
 "metadata": {
  "kernelspec": {
   "display_name": "Python [default]",
   "language": "python",
   "name": "python3"
  },
  "language_info": {
   "codemirror_mode": {
    "name": "ipython",
    "version": 3
   },
   "file_extension": ".py",
   "mimetype": "text/x-python",
   "name": "python",
   "nbconvert_exporter": "python",
   "pygments_lexer": "ipython3",
   "version": "3.5.2"
  }
 },
 "nbformat": 4,
 "nbformat_minor": 1
}
